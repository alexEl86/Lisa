{
 "cells": [
  {
   "cell_type": "markdown",
   "metadata": {},
   "source": [
    "# Exercise 8 - Model interpretation\n",
    "\n",
    "This exercise focuses on model interpretation. In this context model interpretation means the contributions of individual features to the prediction outcome. \n",
    "\n",
    "#### Contact\n",
    "\n",
    "As always if you have any questions regarding the notebook or the course, please contact:\n",
    "\n",
    "David Steyrl: david.steyrl@univie.ac.at \n",
    "\n",
    "And please ask questions in the forum so we can answer them directly or pick them up in a Q&A :)\n",
    "\n",
    "Some helpful resources (accessed 21.11.2022):\n",
    "\n",
    "- https://machinelearningmastery.com/calculate-feature-importance-with-python/\n",
    "\n",
    "- https://realpython.com/linear-regression-in-python/\n",
    "\n",
    "- https://pythonprogramming.net/regression-introduction-machine-learning-tutorial/\n",
    "\n",
    "- https://www.analyticsvidhya.com/blog/2020/04/feature-scaling-machine-learning-normalization-standardization/\n",
    "\n",
    "- https://christophm.github.io/interpretable-ml-book/"
   ]
  },
  {
   "cell_type": "code",
   "execution_count": 47,
   "metadata": {},
   "outputs": [],
   "source": [
    "# Import packages that we will need in the exercise\n",
    "import pandas as pd\n",
    "import numpy as np\n",
    "import matplotlib.pyplot as plt\n",
    "from sklearn.metrics import mean_squared_error, r2_score\n",
    "from sklearn.tree import DecisionTreeRegressor, plot_tree\n",
    "from sklearn.linear_model import LinearRegression\n",
    "from sklearn.ensemble import RandomForestRegressor\n",
    "from sklearn.model_selection import RepeatedKFold, train_test_split"
   ]
  },
  {
   "cell_type": "markdown",
   "metadata": {},
   "source": [
    "## Preparing the data\n",
    "\n",
    "We use the wine quality data set in this exercise. As usual, we try to predict the wine quality from a battery of wine metrics, e.g. residual sugar, citric acid, etc. This time, however, the final goal is to understand which of the features are important to the prediction outcome."
   ]
  },
  {
   "cell_type": "code",
   "execution_count": 48,
   "metadata": {},
   "outputs": [
    {
     "data": {
      "text/html": [
       "<div>\n",
       "<style scoped>\n",
       "    .dataframe tbody tr th:only-of-type {\n",
       "        vertical-align: middle;\n",
       "    }\n",
       "\n",
       "    .dataframe tbody tr th {\n",
       "        vertical-align: top;\n",
       "    }\n",
       "\n",
       "    .dataframe thead th {\n",
       "        text-align: right;\n",
       "    }\n",
       "</style>\n",
       "<table border=\"1\" class=\"dataframe\">\n",
       "  <thead>\n",
       "    <tr style=\"text-align: right;\">\n",
       "      <th></th>\n",
       "      <th>fixed acidity</th>\n",
       "      <th>volatile acidity</th>\n",
       "      <th>citric acid</th>\n",
       "      <th>residual sugar</th>\n",
       "      <th>chlorides</th>\n",
       "      <th>free sulfur dioxide</th>\n",
       "      <th>total sulfur dioxide</th>\n",
       "      <th>density</th>\n",
       "      <th>pH</th>\n",
       "      <th>sulphates</th>\n",
       "      <th>alcohol</th>\n",
       "      <th>quality</th>\n",
       "    </tr>\n",
       "  </thead>\n",
       "  <tbody>\n",
       "    <tr>\n",
       "      <th>0</th>\n",
       "      <td>7.0</td>\n",
       "      <td>0.27</td>\n",
       "      <td>0.36</td>\n",
       "      <td>20.7</td>\n",
       "      <td>0.045</td>\n",
       "      <td>45.0</td>\n",
       "      <td>170.0</td>\n",
       "      <td>1.0010</td>\n",
       "      <td>3.00</td>\n",
       "      <td>0.45</td>\n",
       "      <td>8.8</td>\n",
       "      <td>6</td>\n",
       "    </tr>\n",
       "    <tr>\n",
       "      <th>1</th>\n",
       "      <td>6.3</td>\n",
       "      <td>0.30</td>\n",
       "      <td>0.34</td>\n",
       "      <td>1.6</td>\n",
       "      <td>0.049</td>\n",
       "      <td>14.0</td>\n",
       "      <td>132.0</td>\n",
       "      <td>0.9940</td>\n",
       "      <td>3.30</td>\n",
       "      <td>0.49</td>\n",
       "      <td>9.5</td>\n",
       "      <td>6</td>\n",
       "    </tr>\n",
       "    <tr>\n",
       "      <th>2</th>\n",
       "      <td>8.1</td>\n",
       "      <td>0.28</td>\n",
       "      <td>0.40</td>\n",
       "      <td>6.9</td>\n",
       "      <td>0.050</td>\n",
       "      <td>30.0</td>\n",
       "      <td>97.0</td>\n",
       "      <td>0.9951</td>\n",
       "      <td>3.26</td>\n",
       "      <td>0.44</td>\n",
       "      <td>10.1</td>\n",
       "      <td>6</td>\n",
       "    </tr>\n",
       "    <tr>\n",
       "      <th>3</th>\n",
       "      <td>7.2</td>\n",
       "      <td>0.23</td>\n",
       "      <td>0.32</td>\n",
       "      <td>8.5</td>\n",
       "      <td>0.058</td>\n",
       "      <td>47.0</td>\n",
       "      <td>186.0</td>\n",
       "      <td>0.9956</td>\n",
       "      <td>3.19</td>\n",
       "      <td>0.40</td>\n",
       "      <td>9.9</td>\n",
       "      <td>6</td>\n",
       "    </tr>\n",
       "    <tr>\n",
       "      <th>4</th>\n",
       "      <td>7.2</td>\n",
       "      <td>0.23</td>\n",
       "      <td>0.32</td>\n",
       "      <td>8.5</td>\n",
       "      <td>0.058</td>\n",
       "      <td>47.0</td>\n",
       "      <td>186.0</td>\n",
       "      <td>0.9956</td>\n",
       "      <td>3.19</td>\n",
       "      <td>0.40</td>\n",
       "      <td>9.9</td>\n",
       "      <td>6</td>\n",
       "    </tr>\n",
       "  </tbody>\n",
       "</table>\n",
       "</div>"
      ],
      "text/plain": [
       "   fixed acidity  volatile acidity  citric acid  residual sugar  chlorides  \\\n",
       "0            7.0              0.27         0.36            20.7      0.045   \n",
       "1            6.3              0.30         0.34             1.6      0.049   \n",
       "2            8.1              0.28         0.40             6.9      0.050   \n",
       "3            7.2              0.23         0.32             8.5      0.058   \n",
       "4            7.2              0.23         0.32             8.5      0.058   \n",
       "\n",
       "   free sulfur dioxide  total sulfur dioxide  density    pH  sulphates  \\\n",
       "0                 45.0                 170.0   1.0010  3.00       0.45   \n",
       "1                 14.0                 132.0   0.9940  3.30       0.49   \n",
       "2                 30.0                  97.0   0.9951  3.26       0.44   \n",
       "3                 47.0                 186.0   0.9956  3.19       0.40   \n",
       "4                 47.0                 186.0   0.9956  3.19       0.40   \n",
       "\n",
       "   alcohol  quality  \n",
       "0      8.8        6  \n",
       "1      9.5        6  \n",
       "2     10.1        6  \n",
       "3      9.9        6  \n",
       "4      9.9        6  "
      ]
     },
     "execution_count": 48,
     "metadata": {},
     "output_type": "execute_result"
    }
   ],
   "source": [
    "# Import wine quality data from .csv file\n",
    "df_wine = pd.read_csv('winequality-white.csv', sep=\";\", header=0)\n",
    "df_wine.head() # for more information such as mean and std per feature use .describe()"
   ]
  },
  {
   "cell_type": "code",
   "execution_count": 49,
   "metadata": {},
   "outputs": [
    {
     "data": {
      "text/plain": [
       "fixed acidity           0\n",
       "volatile acidity        0\n",
       "citric acid             0\n",
       "residual sugar          0\n",
       "chlorides               0\n",
       "free sulfur dioxide     0\n",
       "total sulfur dioxide    0\n",
       "density                 0\n",
       "pH                      0\n",
       "sulphates               0\n",
       "alcohol                 0\n",
       "quality                 0\n",
       "dtype: int64"
      ]
     },
     "execution_count": 49,
     "metadata": {},
     "output_type": "execute_result"
    }
   ],
   "source": [
    "# Check for missing values \n",
    "df_wine.isnull().sum() "
   ]
  },
  {
   "cell_type": "code",
   "execution_count": 50,
   "metadata": {},
   "outputs": [],
   "source": [
    "# Preparing data assigning features and target\n",
    "X = df_wine.drop(columns='quality')\n",
    "y = df_wine.quality\n",
    "y = y.values.reshape(-1, 1)"
   ]
  },
  {
   "cell_type": "markdown",
   "metadata": {},
   "source": [
    "Since we workd through this already we keep the prediction part simple using a train-test split.\n",
    "However, make sure you understand the code and consult the previous exercises or post to the forum if something is not clear! :)"
   ]
  },
  {
   "cell_type": "code",
   "execution_count": 51,
   "metadata": {},
   "outputs": [
    {
     "name": "stdout",
     "output_type": "stream",
     "text": [
      "Predictions:  [[5.5912529 ]\n",
      " [5.4637415 ]\n",
      " [6.09168743]\n",
      " ...\n",
      " [6.44740715]\n",
      " [5.8809231 ]\n",
      " [4.89256558]]\n",
      "Train performance:  0.29167618400020756\n",
      "Test performance:  0.24380039034361123\n"
     ]
    }
   ],
   "source": [
    "# 1. Split data into training and test set\n",
    "X_train, X_test, y_train, y_test = train_test_split(X,y, test_size=0.25, random_state=0)\n",
    "# Instantiate Regressor \n",
    "lin_regr = LinearRegression()\n",
    "# 2. Fitting the Regression\n",
    "lin_regr.fit(X_train, y_train)\n",
    "# 3. Test regressor with test data (and training data to compare them)\n",
    "y_pred_test = lin_regr.predict(X_test)\n",
    "y_pred_train = lin_regr.predict(X_train)\n",
    "# 4. Calc metric (e.g. r2)\n",
    "r2_test = r2_score(y_test, y_pred_test)\n",
    "r2_train = r2_score(y_train, y_pred_train)\n",
    "# We now have our predictions and the overall performance of our model\n",
    "print('Predictions: ', y_pred_test)\n",
    "\n",
    "print('Train performance: ', r2_train)\n",
    "\n",
    "print('Test performance: ', r2_test)"
   ]
  },
  {
   "cell_type": "markdown",
   "metadata": {},
   "source": [
    "As expected the performance on the test set is lower than the performance on the training set."
   ]
  },
  {
   "cell_type": "markdown",
   "metadata": {},
   "source": [
    "# Model Inspection\n",
    "\n",
    "## Linear Regression\n",
    "\n",
    "Remember: Linear Regression fits a linear model with coefficients w = (w1, …, wp) (w ist das gleiche wie b) to minimize the residual sum of squares between the observed targets in the dataset, and the targets predicted by the linear approximation.\n",
    "\n",
    "We can access the coeffiecients using .coef_ on our Linear Regression object. "
   ]
  },
  {
   "cell_type": "code",
   "execution_count": 52,
   "metadata": {},
   "outputs": [
    {
     "name": "stdout",
     "output_type": "stream",
     "text": [
      "[[ 1.15953365e-01 -1.81594265e+00 -1.66810488e-02  9.65149311e-02\n",
      "  -5.13583573e-01  4.74413246e-03 -2.17957734e-04 -1.98333673e+02\n",
      "   8.79948572e-01  6.27189921e-01  1.31644131e-01]]\n"
     ]
    }
   ],
   "source": [
    "# What are our coefficients?\n",
    "coef = lin_regr.coef_\n",
    "print(coef)"
   ]
  },
  {
   "cell_type": "code",
   "execution_count": 53,
   "metadata": {},
   "outputs": [
    {
     "name": "stdout",
     "output_type": "stream",
     "text": [
      "<class 'numpy.ndarray'>\n",
      "<class 'list'>\n",
      "[0.11595336528372445, -1.8159426509738865, -0.016681048845243927, 0.0965149311323295, -0.5135835725745426, 0.0047441324576726895, -0.0002179577341210326, -198.33367328276236, 0.8799485721205478, 0.6271899211708349, 0.1316441313307533]\n"
     ]
    }
   ],
   "source": [
    "# The coefficients are returned as a numpy array. We will convert the array to a list to plot our coefficients. \n",
    "print(type(coef))\n",
    "coef = coef.tolist()[0] # we can do so using .tolist()\n",
    "# we use [0] to get the first element of our list, to make sure we have a single list instead of lists of lists\n",
    "# feel free to play around with the [0] if you are curious about it\n",
    "print(type(coef))\n",
    "print(coef)"
   ]
  },
  {
   "cell_type": "code",
   "execution_count": 54,
   "metadata": {},
   "outputs": [
    {
     "name": "stdout",
     "output_type": "stream",
     "text": [
      "['fixed acidity', 'volatile acidity', 'citric acid', 'residual sugar', 'chlorides', 'free sulfur dioxide', 'total sulfur dioxide', 'density', 'pH', 'sulphates', 'alcohol']\n"
     ]
    }
   ],
   "source": [
    "# Get labels for the features as a list. \n",
    "# Returns list of features except the target (quality) --> [:-1]\n",
    "labels = df_wine.columns.values[:-1].tolist()\n",
    "print(labels)"
   ]
  },
  {
   "cell_type": "code",
   "execution_count": 55,
   "metadata": {},
   "outputs": [
    {
     "data": {
      "image/png": "[encoded data removed]",
      "text/plain": [
       "<Figure size 432x288 with 1 Axes>"
      ]
     },
     "metadata": {
      "needs_background": "light"
     },
     "output_type": "display_data"
    }
   ],
   "source": [
    "# Plot coefficients for each feature\n",
    "fig = plt.figure()\n",
    "ax = fig.add_axes([0,0,1,1])\n",
    "plt.xticks(rotation=90)\n",
    "ax.bar(labels, coef)\n",
    "plt.xlabel('Features')\n",
    "plt.ylabel('coefficient values')\n",
    "plt.show()"
   ]
  },
  {
   "cell_type": "markdown",
   "metadata": {},
   "source": [
    "Let's have a look at our coefficients. Which one is the most important one?\n",
    "Well, at this point we cannot really tell. The problem is the different scales of our features. Let's have another look at the values of our data."
   ]
  },
  {
   "cell_type": "code",
   "execution_count": 56,
   "metadata": {},
   "outputs": [
    {
     "data": {
      "text/html": [
       "<div>\n",
       "<style scoped>\n",
       "    .dataframe tbody tr th:only-of-type {\n",
       "        vertical-align: middle;\n",
       "    }\n",
       "\n",
       "    .dataframe tbody tr th {\n",
       "        vertical-align: top;\n",
       "    }\n",
       "\n",
       "    .dataframe thead th {\n",
       "        text-align: right;\n",
       "    }\n",
       "</style>\n",
       "<table border=\"1\" class=\"dataframe\">\n",
       "  <thead>\n",
       "    <tr style=\"text-align: right;\">\n",
       "      <th></th>\n",
       "      <th>fixed acidity</th>\n",
       "      <th>volatile acidity</th>\n",
       "      <th>citric acid</th>\n",
       "      <th>residual sugar</th>\n",
       "      <th>chlorides</th>\n",
       "      <th>free sulfur dioxide</th>\n",
       "      <th>total sulfur dioxide</th>\n",
       "      <th>density</th>\n",
       "      <th>pH</th>\n",
       "      <th>sulphates</th>\n",
       "      <th>alcohol</th>\n",
       "    </tr>\n",
       "  </thead>\n",
       "  <tbody>\n",
       "    <tr>\n",
       "      <th>0</th>\n",
       "      <td>7.0</td>\n",
       "      <td>0.27</td>\n",
       "      <td>0.36</td>\n",
       "      <td>20.7</td>\n",
       "      <td>0.045</td>\n",
       "      <td>45.0</td>\n",
       "      <td>170.0</td>\n",
       "      <td>1.0010</td>\n",
       "      <td>3.00</td>\n",
       "      <td>0.45</td>\n",
       "      <td>8.8</td>\n",
       "    </tr>\n",
       "    <tr>\n",
       "      <th>1</th>\n",
       "      <td>6.3</td>\n",
       "      <td>0.30</td>\n",
       "      <td>0.34</td>\n",
       "      <td>1.6</td>\n",
       "      <td>0.049</td>\n",
       "      <td>14.0</td>\n",
       "      <td>132.0</td>\n",
       "      <td>0.9940</td>\n",
       "      <td>3.30</td>\n",
       "      <td>0.49</td>\n",
       "      <td>9.5</td>\n",
       "    </tr>\n",
       "    <tr>\n",
       "      <th>2</th>\n",
       "      <td>8.1</td>\n",
       "      <td>0.28</td>\n",
       "      <td>0.40</td>\n",
       "      <td>6.9</td>\n",
       "      <td>0.050</td>\n",
       "      <td>30.0</td>\n",
       "      <td>97.0</td>\n",
       "      <td>0.9951</td>\n",
       "      <td>3.26</td>\n",
       "      <td>0.44</td>\n",
       "      <td>10.1</td>\n",
       "    </tr>\n",
       "    <tr>\n",
       "      <th>3</th>\n",
       "      <td>7.2</td>\n",
       "      <td>0.23</td>\n",
       "      <td>0.32</td>\n",
       "      <td>8.5</td>\n",
       "      <td>0.058</td>\n",
       "      <td>47.0</td>\n",
       "      <td>186.0</td>\n",
       "      <td>0.9956</td>\n",
       "      <td>3.19</td>\n",
       "      <td>0.40</td>\n",
       "      <td>9.9</td>\n",
       "    </tr>\n",
       "    <tr>\n",
       "      <th>4</th>\n",
       "      <td>7.2</td>\n",
       "      <td>0.23</td>\n",
       "      <td>0.32</td>\n",
       "      <td>8.5</td>\n",
       "      <td>0.058</td>\n",
       "      <td>47.0</td>\n",
       "      <td>186.0</td>\n",
       "      <td>0.9956</td>\n",
       "      <td>3.19</td>\n",
       "      <td>0.40</td>\n",
       "      <td>9.9</td>\n",
       "    </tr>\n",
       "  </tbody>\n",
       "</table>\n",
       "</div>"
      ],
      "text/plain": [
       "   fixed acidity  volatile acidity  citric acid  residual sugar  chlorides  \\\n",
       "0            7.0              0.27         0.36            20.7      0.045   \n",
       "1            6.3              0.30         0.34             1.6      0.049   \n",
       "2            8.1              0.28         0.40             6.9      0.050   \n",
       "3            7.2              0.23         0.32             8.5      0.058   \n",
       "4            7.2              0.23         0.32             8.5      0.058   \n",
       "\n",
       "   free sulfur dioxide  total sulfur dioxide  density    pH  sulphates  \\\n",
       "0                 45.0                 170.0   1.0010  3.00       0.45   \n",
       "1                 14.0                 132.0   0.9940  3.30       0.49   \n",
       "2                 30.0                  97.0   0.9951  3.26       0.44   \n",
       "3                 47.0                 186.0   0.9956  3.19       0.40   \n",
       "4                 47.0                 186.0   0.9956  3.19       0.40   \n",
       "\n",
       "   alcohol  \n",
       "0      8.8  \n",
       "1      9.5  \n",
       "2     10.1  \n",
       "3      9.9  \n",
       "4      9.9  "
      ]
     },
     "execution_count": 56,
     "metadata": {},
     "output_type": "execute_result"
    }
   ],
   "source": [
    "X.head()"
   ]
  },
  {
   "cell_type": "markdown",
   "metadata": {},
   "source": [
    "Linear machine learning algorithms fit a model where the prediction is the weighted sum of the input values .\n",
    "\n",
    "These algorithms find a set of coefficients to use in the weighted sum in order to make a prediction. These coefficients can be used directly as a feature importance score. However, there is a problem. The weights depend on the scale of the imput variable. The weights are small if the values of a variable are big and vice versa. One way to cope with this problem is standardization.\n",
    "\n",
    "Short recap on standardization: \n",
    "\n",
    "Standardization is the process of putting different variables on the same scale. This process allows you to compare scores between different types of variables. Typically, to standardize variables, you calculate the mean and standard deviation for a variable. Then, for each observed value of the variable, you subtract the mean and divide by the standard deviation.\n",
    "\n",
    "In Scikit learn we can use the StandardScaler to apply standardization. "
   ]
  },
  {
   "cell_type": "code",
   "execution_count": 57,
   "metadata": {},
   "outputs": [],
   "source": [
    "# Import standardizer package\n",
    "from sklearn.preprocessing import StandardScaler\n",
    "# Split data into training and test set\n",
    "X_train, X_test, y_train, y_test = train_test_split(X,y, test_size=0.25, random_state=0)\n",
    "#############################################################################\n",
    "# Here is the StandardScaler application\n",
    "# Standardize data using StandardScaler - \n",
    "# Create and fit StandardScaler\n",
    "scaler_features = StandardScaler(copy=True, with_mean=True, with_std=True).fit(X_train)\n",
    "scaler_targets = StandardScaler(copy=True, with_mean=True, with_std=True).fit(y_train)\n",
    "# sidenote: it is important that we use the same scaling on both, training and test data.\n",
    "# use the scaler derived form the training set (as in reality you would have no access to test data yet)\n",
    "# Transform the data\n",
    "X_train = scaler_features.transform(X_train)\n",
    "y_train = scaler_targets.transform(y_train)\n",
    "X_test = scaler_features.transform(X_test)\n",
    "y_test = scaler_targets.transform(y_test)\n",
    "#############################################################################\n",
    "# From here on we perform the usual steps \n",
    "# Instantiate Regressor \n",
    "lin_regr = LinearRegression()\n",
    "# Fitting the Regression\n",
    "lin_regr.fit(X_train, y_train)\n",
    "# Test regressor with test data (and training data to compare them)\n",
    "y_pred_test = lin_regr.predict(X_test)\n",
    "y_pred_train = lin_regr.predict(X_train)\n",
    "# Calc metric (e.g. r2)\n",
    "r2_test = r2_score(y_test, y_pred_test)\n",
    "r2_train = r2_score(y_train, y_pred_train)\n",
    "# Get coefficients \n",
    "coef = lin_regr.coef_.tolist()[0]"
   ]
  },
  {
   "cell_type": "code",
   "execution_count": 58,
   "metadata": {},
   "outputs": [
    {
     "name": "stdout",
     "output_type": "stream",
     "text": [
      "0.2916761840002078\n",
      "0.24380039034361078\n"
     ]
    }
   ],
   "source": [
    "# Our model performs equally well\n",
    "print(r2_train)\n",
    "print(r2_test)"
   ]
  },
  {
   "cell_type": "code",
   "execution_count": 59,
   "metadata": {},
   "outputs": [
    {
     "name": "stdout",
     "output_type": "stream",
     "text": [
      "[0.10941402566308804, -0.20852613199671266, -0.002272446841460579, 0.5511611672163299, -0.012982560086368718, 0.09175746502552068, -0.010510238971854796, -0.665131964699, 0.15155387595842723, 0.08332294354747703, 0.18513486257580447]\n"
     ]
    }
   ],
   "source": [
    "# Let's look at our coefficients\n",
    "print(coef)"
   ]
  },
  {
   "cell_type": "code",
   "execution_count": 60,
   "metadata": {},
   "outputs": [
    {
     "data": {
      "image/png": "[encoded data removed]",
      "text/plain": [
       "<Figure size 432x288 with 1 Axes>"
      ]
     },
     "metadata": {
      "needs_background": "light"
     },
     "output_type": "display_data"
    }
   ],
   "source": [
    "# Create the same plot as before\n",
    "fig = plt.figure()\n",
    "ax = fig.add_axes([0,0,1,1])\n",
    "plt.xticks(rotation=90)\n",
    "ax.bar(labels,coef)\n",
    "plt.xlabel('Features')\n",
    "plt.ylabel('coefficient values')\n",
    "plt.show()"
   ]
  },
  {
   "cell_type": "markdown",
   "metadata": {},
   "source": [
    "Now that the features are on the same scale we can compare the coefficients. \n",
    "\n",
    "However, since we standardized them, the usual interpretation of the weights is no longer true. Usually, the coefficients indicate the increase/decrease along the y-axis with each unit of increase along the x-axis. \n",
    "To be able to interpret the coefficients that way again we have to inverse the applied transform.\n"
   ]
  },
  {
   "cell_type": "code",
   "execution_count": 61,
   "metadata": {},
   "outputs": [
    {
     "name": "stdout",
     "output_type": "stream",
     "text": [
      "[[6.94963192e+00 2.57598095e-01 3.32737615e-01 9.09231218e+00\n",
      "  4.55800378e-02 3.68579049e+01 1.38085478e+02 9.92044231e-01\n",
      "  3.21094012e+00 5.00013435e-01 1.07487563e+01]]\n"
     ]
    }
   ],
   "source": [
    "# inverse transform the coefficients\n",
    "coef_retransformed = scaler_features.inverse_transform(lin_regr.coef_)\n",
    "# we are using the coef np.array instead of the coef list as the method expects that type\n",
    "print(coef_retransformed)"
   ]
  },
  {
   "cell_type": "markdown",
   "metadata": {},
   "source": [
    "To sum up: We have to standardize our features before we put them into our linear regression model to allow us to compare their importance to one another. \n",
    "In order to interpret their effect on our target variable in the usual way we inverse the applied transform to get the weight back in the scale of the original data. "
   ]
  },
  {
   "cell_type": "markdown",
   "metadata": {},
   "source": [
    "## Decision Trees \n",
    "\n",
    "When we inspect a linear regression model we take a closer look at the coefficients to gain an understanding about our features and their importance. \n",
    "In tree based methods there are no coefficients as in linear regression. However, we can inspect the importance of our features as measured by their contribution to the error reduction.\n",
    "The importance of a feature is computed as the (normalized) total reduction of the criterion brought by that feature, e.g. how much is the MSE reduced by a specific feature."
   ]
  },
  {
   "cell_type": "code",
   "execution_count": 62,
   "metadata": {},
   "outputs": [],
   "source": [
    "# Note: We would not have to redo the standarization since the data is still standardized.\n",
    "# However, we left it in so you can switch between standardized/non-standardized.\n",
    "# Go ahead and try it both ways and observe what happens!\n",
    "# Preparing data assigning features and target - prepared for reloading data / exploring standardization\n",
    "X = df_wine.drop(columns='quality')\n",
    "y = df_wine.quality.values.reshape(-1, 1)\n",
    "# Split data into training and test set\n",
    "X_train, X_test, y_train, y_test = train_test_split(X,y, test_size=0.25, random_state=0)\n",
    "# Create and fit StandardScaler\n",
    "scaler_features = StandardScaler(copy=True, with_mean=True, with_std=True).fit(X_train)\n",
    "# Transform the data\n",
    "X_train = scaler_features.transform(X_train)\n",
    "X_test = scaler_features.transform(X_test)\n",
    "# Instantiate Regressor, using max_depth=6, since we already found out in exercise 6 that it is the best setting\n",
    "dec_tree = DecisionTreeRegressor(max_depth=6)\n",
    "# Fitting the Decision tree\n",
    "dec_tree.fit(X_train, y_train)\n",
    "# Test DT with test data (and training data to compare them)\n",
    "y_pred_test = dec_tree.predict(X_test)\n",
    "y_pred_train = dec_tree.predict(X_train)\n",
    "# Calc metric (e.g. r2)\n",
    "r2_test = r2_score(y_test, y_pred_test)\n",
    "r2_train = r2_score(y_train, y_pred_train)"
   ]
  },
  {
   "cell_type": "code",
   "execution_count": 63,
   "metadata": {},
   "outputs": [
    {
     "name": "stdout",
     "output_type": "stream",
     "text": [
      "0.4394674875267762\n",
      "0.25799534956150516\n"
     ]
    }
   ],
   "source": [
    "print(r2_train)\n",
    "print(r2_test)"
   ]
  },
  {
   "cell_type": "code",
   "execution_count": 64,
   "metadata": {},
   "outputs": [
    {
     "name": "stdout",
     "output_type": "stream",
     "text": [
      "[0.01781471 0.20988639 0.02055888 0.04418819 0.02160789 0.11023457\n",
      " 0.00590945 0.01236929 0.03672134 0.03674412 0.48396516]\n"
     ]
    }
   ],
   "source": [
    "'''\n",
    "The importance of features is automatically computed during the training of the DT and \n",
    "stored in the feature_importance_ variable\n",
    "'''\n",
    "print(dec_tree.feature_importances_)"
   ]
  },
  {
   "cell_type": "code",
   "execution_count": 65,
   "metadata": {},
   "outputs": [
    {
     "name": "stdout",
     "output_type": "stream",
     "text": [
      "[0.017814714835834695, 0.2098863881085006, 0.020558878067669987, 0.04418818981843524, 0.021607892324008834, 0.11023457163883003, 0.005909453759625316, 0.012369293845166624, 0.036721339648127974, 0.036744117234031315, 0.48396516071976936]\n"
     ]
    }
   ],
   "source": [
    "# Convert the features importance to list\n",
    "feat_imp = dec_tree.feature_importances_.tolist()\n",
    "print(feat_imp)"
   ]
  },
  {
   "cell_type": "code",
   "execution_count": 66,
   "metadata": {},
   "outputs": [
    {
     "data": {
      "image/png": "[encoded data removed]",
      "text/plain": [
       "<Figure size 432x288 with 1 Axes>"
      ]
     },
     "metadata": {
      "needs_background": "light"
     },
     "output_type": "display_data"
    }
   ],
   "source": [
    "# Create the same plot as for the feature importance in the linear model\n",
    "fig = plt.figure()\n",
    "ax = fig.add_axes([0, 0, 1, 1])\n",
    "plt.xticks(rotation=90)\n",
    "ax.bar(labels,feat_imp)\n",
    "plt.xlabel('Features')\n",
    "plt.ylabel('Feature Importances - Decision Tree')\n",
    "plt.show()"
   ]
  },
  {
   "cell_type": "markdown",
   "metadata": {},
   "source": [
    "Here we see the contributions of each feature to the overall MSE reduction of the decision tree. The results are not the same as for the linear regression. Features have other importance. This is reasonable, since the performance of the two methods is not the same as well.\n",
    "\n",
    "One more note is standardization in tree based methods:\n",
    "Tree-based algorithms are fairly insensitive to the scale of the features. Think about it, a decision tree is only splitting a node based on a single feature. The decision tree splits a node on a feature that increases the homogeneity of the node/reduces the error. This split on a feature is not influenced by other features.\n",
    "\n",
    "Explore this behaviour in the example above by commenting/uncommenting the lines of code that implements the scaling! :)\n",
    "\n",
    "Let's continue with the the random forest which will look similar. "
   ]
  },
  {
   "cell_type": "markdown",
   "metadata": {},
   "source": [
    "## Random Forest"
   ]
  },
  {
   "cell_type": "code",
   "execution_count": 67,
   "metadata": {},
   "outputs": [],
   "source": [
    "# Split data into training and test set\n",
    "X_train, X_test, y_train, y_test = train_test_split(X,y, test_size=0.25, random_state=0)\n",
    "# Create and fit StandardScaler\n",
    "scaler_features = StandardScaler(copy=True, with_mean=True, with_std=True).fit(X_train)\n",
    "scaler_targets = StandardScaler(copy=True, with_mean=True, with_std=True).fit(y_train)\n",
    "# Transform the data\n",
    "X_train = scaler_features.transform(X_train)\n",
    "y_train = np.ravel(scaler_targets.transform(y_train))\n",
    "X_test = scaler_features.transform(X_test)\n",
    "y_test = np.ravel(scaler_targets.transform(y_test))\n",
    "# Instantiate Regressor, restricting n_estimators only to reduce computation time\n",
    "rf_regr = RandomForestRegressor(n_estimators=50)\n",
    "# Fitting the RF\n",
    "rf_regr.fit(X_train, y_train)\n",
    "# Test RF with test data (and training data to compare them)\n",
    "y_pred_test = rf_regr.predict(X_test)\n",
    "y_pred_train = rf_regr.predict(X_train)\n",
    "# Calc metric (e.g. r2)\n",
    "r2_test = r2_score(y_test, y_pred_test)\n",
    "r2_train = r2_score(y_train, y_pred_train)"
   ]
  },
  {
   "cell_type": "code",
   "execution_count": 68,
   "metadata": {},
   "outputs": [
    {
     "name": "stdout",
     "output_type": "stream",
     "text": [
      "0.9293546933404772\n",
      "0.4392916676619292\n"
     ]
    }
   ],
   "source": [
    "print(r2_train)\n",
    "print(r2_test)"
   ]
  },
  {
   "cell_type": "code",
   "execution_count": 69,
   "metadata": {},
   "outputs": [
    {
     "name": "stdout",
     "output_type": "stream",
     "text": [
      "[0.05854944414106475, 0.12454877207657596, 0.057136327345684655, 0.06863729056338155, 0.06425987940791772, 0.11228242642543812, 0.06574306254980265, 0.059012041241461095, 0.07166208442557026, 0.06277235760642907, 0.255396314216674]\n"
     ]
    }
   ],
   "source": [
    "\"\"\"\n",
    "The importance of features is automatically computed during the training of the DT and \n",
    "stored in the feature_importance_ variable\n",
    "\"\"\" \n",
    "rf_feat_imp = rf_regr.feature_importances_.tolist()\n",
    "print(rf_feat_imp)"
   ]
  },
  {
   "cell_type": "code",
   "execution_count": 70,
   "metadata": {},
   "outputs": [
    {
     "data": {
      "image/png": "[encoded data removed]",
      "text/plain": [
       "<Figure size 432x288 with 1 Axes>"
      ]
     },
     "metadata": {
      "needs_background": "light"
     },
     "output_type": "display_data"
    }
   ],
   "source": [
    "# Create the same plot as before\n",
    "fig = plt.figure()\n",
    "ax = fig.add_axes([0,0,1,1])\n",
    "plt.xticks(rotation=90)\n",
    "ax.bar(labels,rf_feat_imp)\n",
    "plt.xlabel('Features')\n",
    "plt.ylabel('Feature Importances -  Random Forest')\n",
    "plt.show()"
   ]
  },
  {
   "cell_type": "markdown",
   "metadata": {},
   "source": [
    "# Congrats!\n",
    "\n",
    "You worked through another session that expands your knowledge from last week. You now know how to evaluate a model regarding which feature are important for it's predictions."
   ]
  },
  {
   "cell_type": "markdown",
   "metadata": {},
   "source": [
    "# Exercise\n",
    "\n",
    "Now we are going to look at the California housing dataset again. We already know how to predict the prices but don't know yet what the important variables are for doing so. \n",
    "\n",
    "Feature importance analyses is also very important in psychological research since feature importance analysis enables you to unravel the underlying mechanisms behind a phenomenon a bit and enables you to design better experiemnts helping you to focus on the important aspects. \n",
    "\n",
    "Task:\n",
    "Import the California housing set and use only the first 1000 rows. Step through the usual steps of data preparation and model training and testing. You do not need to worry about cross-validation (use a train-test split as we did in this exercises) and hyperparameter tuning this time. Instead take the time and explore feature importances using Linear Regression, Decision Trees and Random Forests. "
   ]
  },
  {
   "cell_type": "code",
   "execution_count": 71,
   "metadata": {},
   "outputs": [],
   "source": [
    "# Import data\n",
    "from sklearn import datasets\n",
    "from sklearn.datasets import fetch_california_housing\n",
    "california_housing = fetch_california_housing(as_frame=True)\n",
    "\n"
   ]
  },
  {
   "cell_type": "code",
   "execution_count": 72,
   "metadata": {},
   "outputs": [
    {
     "data": {
      "text/html": [
       "<div>\n",
       "<style scoped>\n",
       "    .dataframe tbody tr th:only-of-type {\n",
       "        vertical-align: middle;\n",
       "    }\n",
       "\n",
       "    .dataframe tbody tr th {\n",
       "        vertical-align: top;\n",
       "    }\n",
       "\n",
       "    .dataframe thead th {\n",
       "        text-align: right;\n",
       "    }\n",
       "</style>\n",
       "<table border=\"1\" class=\"dataframe\">\n",
       "  <thead>\n",
       "    <tr style=\"text-align: right;\">\n",
       "      <th></th>\n",
       "      <th>MedInc</th>\n",
       "      <th>HouseAge</th>\n",
       "      <th>AveRooms</th>\n",
       "      <th>AveBedrms</th>\n",
       "      <th>Population</th>\n",
       "      <th>AveOccup</th>\n",
       "      <th>Latitude</th>\n",
       "      <th>Longitude</th>\n",
       "      <th>PRICE</th>\n",
       "    </tr>\n",
       "  </thead>\n",
       "  <tbody>\n",
       "    <tr>\n",
       "      <th>0</th>\n",
       "      <td>8.3252</td>\n",
       "      <td>41.0</td>\n",
       "      <td>6.984127</td>\n",
       "      <td>1.023810</td>\n",
       "      <td>322.0</td>\n",
       "      <td>2.555556</td>\n",
       "      <td>37.88</td>\n",
       "      <td>-122.23</td>\n",
       "      <td>4.526</td>\n",
       "    </tr>\n",
       "    <tr>\n",
       "      <th>1</th>\n",
       "      <td>8.3014</td>\n",
       "      <td>21.0</td>\n",
       "      <td>6.238137</td>\n",
       "      <td>0.971880</td>\n",
       "      <td>2401.0</td>\n",
       "      <td>2.109842</td>\n",
       "      <td>37.86</td>\n",
       "      <td>-122.22</td>\n",
       "      <td>3.585</td>\n",
       "    </tr>\n",
       "    <tr>\n",
       "      <th>2</th>\n",
       "      <td>7.2574</td>\n",
       "      <td>52.0</td>\n",
       "      <td>8.288136</td>\n",
       "      <td>1.073446</td>\n",
       "      <td>496.0</td>\n",
       "      <td>2.802260</td>\n",
       "      <td>37.85</td>\n",
       "      <td>-122.24</td>\n",
       "      <td>3.521</td>\n",
       "    </tr>\n",
       "    <tr>\n",
       "      <th>3</th>\n",
       "      <td>5.6431</td>\n",
       "      <td>52.0</td>\n",
       "      <td>5.817352</td>\n",
       "      <td>1.073059</td>\n",
       "      <td>558.0</td>\n",
       "      <td>2.547945</td>\n",
       "      <td>37.85</td>\n",
       "      <td>-122.25</td>\n",
       "      <td>3.413</td>\n",
       "    </tr>\n",
       "    <tr>\n",
       "      <th>4</th>\n",
       "      <td>3.8462</td>\n",
       "      <td>52.0</td>\n",
       "      <td>6.281853</td>\n",
       "      <td>1.081081</td>\n",
       "      <td>565.0</td>\n",
       "      <td>2.181467</td>\n",
       "      <td>37.85</td>\n",
       "      <td>-122.25</td>\n",
       "      <td>3.422</td>\n",
       "    </tr>\n",
       "  </tbody>\n",
       "</table>\n",
       "</div>"
      ],
      "text/plain": [
       "   MedInc  HouseAge  AveRooms  AveBedrms  Population  AveOccup  Latitude  \\\n",
       "0  8.3252      41.0  6.984127   1.023810       322.0  2.555556     37.88   \n",
       "1  8.3014      21.0  6.238137   0.971880      2401.0  2.109842     37.86   \n",
       "2  7.2574      52.0  8.288136   1.073446       496.0  2.802260     37.85   \n",
       "3  5.6431      52.0  5.817352   1.073059       558.0  2.547945     37.85   \n",
       "4  3.8462      52.0  6.281853   1.081081       565.0  2.181467     37.85   \n",
       "\n",
       "   Longitude  PRICE  \n",
       "0    -122.23  4.526  \n",
       "1    -122.22  3.585  \n",
       "2    -122.24  3.521  \n",
       "3    -122.25  3.413  \n",
       "4    -122.25  3.422  "
      ]
     },
     "execution_count": 72,
     "metadata": {},
     "output_type": "execute_result"
    }
   ],
   "source": [
    "california_df = pd.DataFrame(california_housing.data, columns=california_housing.feature_names)\n",
    "\n",
    "california_df['PRICE'] = pd.Series(california_housing.target) \n",
    "\n",
    "california_df = california_df.iloc[0:1000] \n",
    "\n",
    "california_df.head()"
   ]
  },
  {
   "cell_type": "code",
   "execution_count": 73,
   "metadata": {},
   "outputs": [],
   "source": [
    "X = california_df.drop(columns='PRICE')\n",
    "y = california_df.PRICE\n",
    "#print(y)\n",
    "y = y.values.reshape(-1, 1)\n",
    "#print(y)"
   ]
  },
  {
   "cell_type": "code",
   "execution_count": 74,
   "metadata": {},
   "outputs": [
    {
     "name": "stdout",
     "output_type": "stream",
     "text": [
      "Predictions:  [[2.80535265]\n",
      " [2.24076081]\n",
      " [1.45174053]\n",
      " [1.84693957]\n",
      " [2.23321226]\n",
      " [3.25417659]\n",
      " [1.45140702]\n",
      " [2.17715515]\n",
      " [1.25062831]\n",
      " [3.03406911]\n",
      " [2.18177048]\n",
      " [2.25202968]\n",
      " [2.42235637]\n",
      " [1.70809144]\n",
      " [2.36843359]\n",
      " [1.22336329]\n",
      " [2.2956794 ]\n",
      " [1.42233112]\n",
      " [1.67184206]\n",
      " [0.92729714]\n",
      " [1.51126456]\n",
      " [1.85254011]\n",
      " [1.53222796]\n",
      " [1.2893566 ]\n",
      " [2.50660593]\n",
      " [1.9322607 ]\n",
      " [1.85903257]\n",
      " [1.8634332 ]\n",
      " [1.68428792]\n",
      " [4.11736251]\n",
      " [1.65883113]\n",
      " [1.04254926]\n",
      " [1.53403511]\n",
      " [1.83030207]\n",
      " [3.54427717]\n",
      " [2.04014471]\n",
      " [3.16906012]\n",
      " [2.67443219]\n",
      " [2.28485205]\n",
      " [1.9904114 ]\n",
      " [2.17692085]\n",
      " [4.0510461 ]\n",
      " [1.83761061]\n",
      " [1.89662248]\n",
      " [1.15705146]\n",
      " [1.86012276]\n",
      " [1.72682491]\n",
      " [3.4579232 ]\n",
      " [0.9736721 ]\n",
      " [2.48447281]\n",
      " [1.3906597 ]\n",
      " [1.31823898]\n",
      " [1.59518206]\n",
      " [2.08530069]\n",
      " [2.78928613]\n",
      " [2.99060666]\n",
      " [2.02034752]\n",
      " [0.42306035]\n",
      " [2.32038973]\n",
      " [1.13148793]\n",
      " [2.35137932]\n",
      " [2.07993819]\n",
      " [3.30849717]\n",
      " [1.28391711]\n",
      " [2.89327233]\n",
      " [1.07365952]\n",
      " [1.48154473]\n",
      " [1.77441945]\n",
      " [2.0773728 ]\n",
      " [3.77954747]\n",
      " [2.33178895]\n",
      " [1.53534792]\n",
      " [1.94986131]\n",
      " [1.47543721]\n",
      " [2.51481725]\n",
      " [2.60337912]\n",
      " [2.08039199]\n",
      " [1.82571245]\n",
      " [2.00907019]\n",
      " [2.01427663]\n",
      " [1.81889743]\n",
      " [2.75826312]\n",
      " [2.95894767]\n",
      " [2.7552815 ]\n",
      " [2.22347058]\n",
      " [1.5237647 ]\n",
      " [1.564537  ]\n",
      " [1.68743088]\n",
      " [1.92499275]\n",
      " [2.28793641]\n",
      " [1.90658763]\n",
      " [4.32045737]\n",
      " [3.90203591]\n",
      " [2.82310576]\n",
      " [1.8232411 ]\n",
      " [1.75033755]\n",
      " [2.50048996]\n",
      " [2.35549157]\n",
      " [2.64182342]\n",
      " [3.22069396]\n",
      " [1.91180044]\n",
      " [2.4322385 ]\n",
      " [1.00768213]\n",
      " [2.05883975]\n",
      " [1.20703348]\n",
      " [1.92137159]\n",
      " [2.1677222 ]\n",
      " [1.78543815]\n",
      " [3.18953264]\n",
      " [1.61795848]\n",
      " [1.43156864]\n",
      " [2.71261671]\n",
      " [2.1746049 ]\n",
      " [1.70997668]\n",
      " [1.42079966]\n",
      " [2.12617794]\n",
      " [2.81148617]\n",
      " [2.18247183]\n",
      " [1.79250609]\n",
      " [3.79369525]\n",
      " [2.2417682 ]\n",
      " [2.34349682]\n",
      " [3.18174073]\n",
      " [2.87393705]\n",
      " [1.90255896]\n",
      " [2.63162026]\n",
      " [1.51433635]\n",
      " [3.29959376]\n",
      " [1.67168184]\n",
      " [1.63877506]\n",
      " [2.89997678]\n",
      " [1.92596059]\n",
      " [2.53030094]\n",
      " [1.50793292]\n",
      " [2.01510844]\n",
      " [1.57647047]\n",
      " [1.37425394]\n",
      " [1.66008737]\n",
      " [2.22878753]\n",
      " [2.16867132]\n",
      " [2.20607259]\n",
      " [2.22428265]\n",
      " [2.67971012]\n",
      " [1.37325083]\n",
      " [1.65532792]\n",
      " [3.05079561]\n",
      " [1.32480349]\n",
      " [1.57096995]\n",
      " [1.27441103]\n",
      " [1.84960366]\n",
      " [2.67686421]\n",
      " [1.51093855]\n",
      " [3.83260157]\n",
      " [1.65046846]\n",
      " [2.45681449]\n",
      " [3.33198734]\n",
      " [1.38281186]\n",
      " [3.40980736]\n",
      " [2.53145518]\n",
      " [1.87022259]\n",
      " [2.48851867]\n",
      " [4.59437176]\n",
      " [1.80995023]\n",
      " [3.12774551]\n",
      " [2.82491798]\n",
      " [1.44033686]\n",
      " [0.87468288]\n",
      " [1.46747285]\n",
      " [1.59234936]\n",
      " [3.20429645]\n",
      " [2.3773412 ]\n",
      " [1.67803186]\n",
      " [2.75957588]\n",
      " [2.21909227]\n",
      " [1.60692824]\n",
      " [1.84588598]\n",
      " [1.83143453]\n",
      " [3.15407212]\n",
      " [1.75993551]\n",
      " [1.97833225]\n",
      " [1.64593788]\n",
      " [2.49862967]\n",
      " [1.76857466]\n",
      " [1.37201241]\n",
      " [2.16477818]\n",
      " [4.31124893]\n",
      " [1.70179508]\n",
      " [0.99379145]\n",
      " [1.9883173 ]\n",
      " [1.20660028]\n",
      " [1.58932461]\n",
      " [1.18012897]\n",
      " [0.81724903]\n",
      " [2.31910287]\n",
      " [2.19395219]\n",
      " [2.22931389]\n",
      " [1.7278076 ]\n",
      " [1.71428662]\n",
      " [1.96528344]\n",
      " [2.34128954]\n",
      " [1.61894592]\n",
      " [1.3907436 ]\n",
      " [1.45431655]\n",
      " [2.75752031]\n",
      " [1.56253793]\n",
      " [1.78432687]\n",
      " [1.82104934]\n",
      " [3.7509184 ]\n",
      " [3.06918853]\n",
      " [1.56414246]\n",
      " [2.0762688 ]\n",
      " [2.19373954]\n",
      " [1.37819404]\n",
      " [2.9525848 ]\n",
      " [2.02205615]\n",
      " [2.3474317 ]\n",
      " [3.5578968 ]\n",
      " [3.76280752]\n",
      " [1.58301468]\n",
      " [2.49555524]\n",
      " [1.76021555]\n",
      " [2.70706582]\n",
      " [3.12121438]\n",
      " [1.98476077]\n",
      " [3.4265385 ]\n",
      " [1.9082515 ]\n",
      " [1.8765615 ]\n",
      " [2.64134667]\n",
      " [1.57357761]\n",
      " [2.57524073]\n",
      " [1.8922264 ]\n",
      " [1.90303292]\n",
      " [1.68209442]\n",
      " [1.79422422]\n",
      " [0.77992447]\n",
      " [1.44879843]\n",
      " [2.14462821]\n",
      " [1.15494928]\n",
      " [2.23285314]\n",
      " [1.43016059]\n",
      " [2.69688764]\n",
      " [1.61300203]\n",
      " [1.44593085]\n",
      " [3.14324369]\n",
      " [2.68937775]\n",
      " [1.67590798]\n",
      " [1.5982153 ]\n",
      " [3.42915823]\n",
      " [2.10164801]\n",
      " [1.57277381]]\n",
      "Train performance:  0.6411546240511949\n",
      "Test performance:  0.6214976183850165\n"
     ]
    }
   ],
   "source": [
    "# 1. Split data into training and test set\n",
    "X_train, X_test, y_train, y_test = train_test_split(X,y, test_size=0.25, random_state=0)\n",
    "# Instantiate Regressor \n",
    "lin_regr = LinearRegression()\n",
    "# 2. Fitting the Regression\n",
    "lin_regr.fit(X_train, y_train)\n",
    "# 3. Test regressor with test data (and training data to compare them)\n",
    "y_pred_test = lin_regr.predict(X_test)\n",
    "y_pred_train = lin_regr.predict(X_train)\n",
    "# 4. Calc metric (e.g. r2)\n",
    "r2_test = r2_score(y_test, y_pred_test)\n",
    "r2_train = r2_score(y_train, y_pred_train)\n",
    "# We now have our predictions and the overall performance of our model\n",
    "print('Predictions: ', y_pred_test)\n",
    "\n",
    "print('Train performance: ', r2_train)\n",
    "\n",
    "print('Test performance: ', r2_test)"
   ]
  },
  {
   "cell_type": "code",
   "execution_count": 75,
   "metadata": {},
   "outputs": [
    {
     "name": "stdout",
     "output_type": "stream",
     "text": [
      "[[ 3.63907017e-01  4.67286537e-04  1.16220342e-02 -3.42048012e-01\n",
      "   8.36813420e-05 -1.86754122e-01  1.61272671e+00  3.50192535e-01]]\n",
      "<class 'numpy.ndarray'>\n",
      "[0.36390701663582053, 0.000467286536534253, 0.011622034203826643, -0.34204801222751097, 8.368134200407822e-05, -0.18675412159639856, 1.6127267118875428, 0.35019253472937395]\n",
      "<class 'list'>\n"
     ]
    }
   ],
   "source": [
    "coef = lin_regr.coef_ # Q: Warum macht man das?\n",
    "print(coef)\n",
    "print(type(coef))\n",
    "\n",
    "coef = coef.tolist()[0]\n",
    "print(coef)\n",
    "print(type(coef))\n"
   ]
  },
  {
   "cell_type": "code",
   "execution_count": 76,
   "metadata": {},
   "outputs": [
    {
     "name": "stdout",
     "output_type": "stream",
     "text": [
      "['MedInc', 'HouseAge', 'AveRooms', 'AveBedrms', 'Population', 'AveOccup', 'Latitude', 'Longitude']\n"
     ]
    }
   ],
   "source": [
    "labels = california_df.columns.values[:-1].tolist()\n",
    "print(labels)"
   ]
  },
  {
   "cell_type": "code",
   "execution_count": 77,
   "metadata": {},
   "outputs": [],
   "source": [
    "# Import standardizer package\n",
    "from sklearn.preprocessing import StandardScaler\n",
    "# Split data into training and test set\n",
    "X_train, X_test, y_train, y_test = train_test_split(X,y, test_size=0.25, random_state=0)\n",
    "#############################################################################\n",
    "# Here is the StandardScaler application\n",
    "# Standardize data using StandardScaler - \n",
    "# Create and fit StandardScaler\n",
    "scaler_features = StandardScaler(copy=True, with_mean=True, with_std=True).fit(X_train)\n",
    "scaler_targets = StandardScaler(copy=True, with_mean=True, with_std=True).fit(y_train)\n",
    "# sidenote: it is important that we use the same scaling on both, training and test data.\n",
    "# use the scaler derived form the training set (as in reality you would have no access to test data yet)\n",
    "# Transform the data\n",
    "X_train = scaler_features.transform(X_train)\n",
    "y_train = scaler_targets.transform(y_train)\n",
    "X_test = scaler_features.transform(X_test)\n",
    "y_test = scaler_targets.transform(y_test)\n",
    "#############################################################################\n",
    "# From here on we perform the usual steps \n",
    "# Instantiate Regressor \n",
    "lin_regr = LinearRegression()\n",
    "# Fitting the Regression\n",
    "lin_regr.fit(X_train, y_train)\n",
    "# Test regressor with test data (and training data to compare them)\n",
    "y_pred_test = lin_regr.predict(X_test)\n",
    "y_pred_train = lin_regr.predict(X_train)\n",
    "# Calc metric (e.g. r2)\n",
    "r2_test = r2_score(y_test, y_pred_test)\n",
    "r2_train = r2_score(y_train, y_pred_train)\n",
    "# Get coefficients \n",
    "coef = lin_regr.coef_.tolist()[0]\n",
    "\n"
   ]
  },
  {
   "cell_type": "code",
   "execution_count": 78,
   "metadata": {},
   "outputs": [
    {
     "name": "stdout",
     "output_type": "stream",
     "text": [
      "0.6411546240511947\n",
      "0.6214976183850169\n"
     ]
    }
   ],
   "source": [
    "print(r2_train)\n",
    "print(r2_test)"
   ]
  },
  {
   "cell_type": "code",
   "execution_count": 79,
   "metadata": {
    "scrolled": true
   },
   "outputs": [
    {
     "data": {
      "image/png": "[encoded data removed]",
      "text/plain": [
       "<Figure size 432x288 with 1 Axes>"
      ]
     },
     "metadata": {
      "needs_background": "light"
     },
     "output_type": "display_data"
    }
   ],
   "source": [
    "fig = plt.figure()\n",
    "ax = fig.add_axes([0,0,1,1])\n",
    "plt.xticks(rotation=90)\n",
    "ax.bar(labels, coef)\n",
    "plt.xlabel('Features')\n",
    "plt.ylabel('coefficient values')\n",
    "plt.show()"
   ]
  },
  {
   "cell_type": "markdown",
   "metadata": {},
   "source": [
    "# However, we left it in so you can switch between standardized/non-standardized.\n",
    "# Go ahead and try it both ways and observe what happens!\n",
    "# Preparing data assigning features and target - prepared for reloading data / exploring standardization\n",
    "X = df_wine.drop(columns='quality')\n",
    "y = df_wine.quality.values.reshape(-1, 1)\n",
    "# Split data into training and test set\n",
    "X_train, X_test, y_train, y_test = train_test_split(X,y, test_size=0.25, random_state=0)\n",
    "# Create and fit StandardScaler\n",
    "scaler_features = StandardScaler(copy=True, with_mean=True, with_std=True).fit(X_train)\n",
    "# Transform the data\n",
    "X_train = scaler_features.transform(X_train)\n",
    "X_test = scaler_features.transform(X_test)\n",
    "# Instantiate Regressor, using max_depth=6, since we already found out in exercise 6 that it is the best setting\n",
    "dec_tree = DecisionTreeRegressor(max_depth=6)\n",
    "# Fitting the Decision tree\n",
    "dec_tree.fit(X_train, y_train)\n",
    "# Test DT with test data (and training data to compare them)\n",
    "y_pred_test = dec_tree.predict(X_test)\n",
    "y_pred_train = dec_tree.predict(X_train)\n",
    "# Calc metric (e.g. r2)\n",
    "r2_test = r2_score(y_test, y_pred_test)\n",
    "r2_train = r2_score(y_train, y_pred_train)\n",
    "\n",
    "print(r2_train)\n",
    "print(r2_test)\n",
    "\n",
    "'''\n",
    "The importance of features is automatically computed during the training of the DT and \n",
    "stored in the feature_importance_ variable\n",
    "'''\n",
    "print(dec_tree.feature_importances_)\n",
    "\n",
    "# Convert the features importance to list\n",
    "feat_imp = dec_tree.feature_importances_.tolist()\n",
    "print(feat_imp)\n",
    "\n",
    "# Create the same plot as for the feature importance in the linear model\n",
    "fig = plt.figure()\n",
    "ax = fig.add_axes([0, 0, 1, 1])\n",
    "plt.xticks(rotation=90)\n",
    "ax.bar(labels,feat_imp)\n",
    "plt.xlabel('Features')\n",
    "plt.ylabel('Feature Importances - Decision Tree')\n",
    "plt.show()"
   ]
  },
  {
   "cell_type": "code",
   "execution_count": 80,
   "metadata": {},
   "outputs": [
    {
     "name": "stdout",
     "output_type": "stream",
     "text": [
      "0.8739810857181034\n",
      "0.5609593258865896\n",
      "[0.71088087 0.01116276 0.02855835 0.01639584 0.01139797 0.13271392\n",
      " 0.05927975 0.02961054]\n",
      "[0.7108808710708466, 0.011162762366011013, 0.028558352189051044, 0.016395835064982982, 0.011397971511382181, 0.1327139180248367, 0.059279745633444174, 0.02961054413944524]\n"
     ]
    },
    {
     "data": {
      "image/png": "[encoded data removed]",
      "text/plain": [
       "<Figure size 432x288 with 1 Axes>"
      ]
     },
     "metadata": {
      "needs_background": "light"
     },
     "output_type": "display_data"
    }
   ],
   "source": [
    "# Note: We would not have to redo the standarization since the data is still standardized.\n",
    "# However, we left it in so you can switch between standardized/non-standardized.\n",
    "# Go ahead and try it both ways and observe what happens!\n",
    "# Preparing data assigning features and target - prepared for reloading data / exploring standardization\n",
    "#X = df_wine.drop(columns='quality')\n",
    "#y = df_wine.quality.values.reshape(-1, 1)\n",
    "# Split data into training and test set\n",
    "#X_train, X_test, y_train, y_test = train_test_split(X,y, test_size=0.25, random_state=0)\n",
    "# Create and fit StandardScaler\n",
    "#scaler_features = StandardScaler(copy=True, with_mean=True, with_std=True).fit(X_train)\n",
    "# Transform the data\n",
    "#X_train = scaler_features.transform(X_train)\n",
    "#X_test = scaler_features.transform(X_test)\n",
    "# Instantiate Regressor, using max_depth=6, since we already found out in exercise 6 that it is the best setting\n",
    "#dec_tree = DecisionTreeRegressor(max_depth=6)\n",
    "# Fitting the Decision tree\n",
    "dec_tree.fit(X_train, y_train)\n",
    "# Test DT with test data (and training data to compare them)\n",
    "y_pred_test = dec_tree.predict(X_test)\n",
    "y_pred_train = dec_tree.predict(X_train)\n",
    "# Calc metric (e.g. r2)\n",
    "r2_test = r2_score(y_test, y_pred_test)\n",
    "r2_train = r2_score(y_train, y_pred_train)\n",
    "\n",
    "print(r2_train)\n",
    "print(r2_test)\n",
    "\n",
    "'''\n",
    "The importance of features is automatically computed during the training of the DT and \n",
    "stored in the feature_importance_ variable\n",
    "'''\n",
    "print(dec_tree.feature_importances_)\n",
    "\n",
    "# Convert the features importance to list\n",
    "feat_imp = dec_tree.feature_importances_.tolist()\n",
    "print(feat_imp)\n",
    "\n",
    "# Create the same plot as for the feature importance in the linear model\n",
    "fig = plt.figure()\n",
    "ax = fig.add_axes([0, 0, 1, 1])\n",
    "plt.xticks(rotation=90)\n",
    "ax.bar(labels,feat_imp)\n",
    "plt.xlabel('Features')\n",
    "plt.ylabel('Feature Importances - Decision Tree')\n",
    "plt.show()"
   ]
  },
  {
   "cell_type": "code",
   "execution_count": 81,
   "metadata": {},
   "outputs": [],
   "source": [
    "#preds_x_test = lin_regr.predict(X_test)\n",
    "#print(preds_x_test)\n",
    "\n",
    "# inverse transform the coefficients\n",
    "coef_retransformed = scaler_features.inverse_transform(lin_regr.coef_)\n",
    "# we are using the coef np.array instead of the coef list as the method expects that type\n",
    "#print(coef_retransformed)\n",
    "lin_regr.coef_ = coef_retransformed\n",
    "preds_x_test = lin_regr.predict(X_test)\n",
    "#print(preds_x_test)\n"
   ]
  },
  {
   "cell_type": "code",
   "execution_count": null,
   "metadata": {},
   "outputs": [],
   "source": []
  },
  {
   "cell_type": "code",
   "execution_count": null,
   "metadata": {},
   "outputs": [],
   "source": []
  }
 ],
 "metadata": {
  "kernelspec": {
   "display_name": "Python 3.6.3 64-bit",
   "language": "python",
   "name": "python3"
  },
  "language_info": {
   "codemirror_mode": {
    "name": "ipython",
    "version": 3
   },
   "file_extension": ".py",
   "mimetype": "text/x-python",
   "name": "python",
   "nbconvert_exporter": "python",
   "pygments_lexer": "ipython3",
   "version": "3.6.3"
  },
  "vscode": {
   "interpreter": {
    "hash": "b976d272c71d9c4ce1902dd9d0f6f3936ea9cc1d1ba40178c440589d48feb7f5"
   }
  }
 },
 "nbformat": 4,
 "nbformat_minor": 2
}
